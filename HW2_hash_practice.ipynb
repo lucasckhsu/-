{
 "cells": [
  {
   "cell_type": "code",
   "execution_count": 1,
   "id": "b939816e-2dd2-422e-9192-c6cd39aea130",
   "metadata": {},
   "outputs": [
    {
     "name": "stdout",
     "output_type": "stream",
     "text": [
      "總共有 10 個不同的單字\n",
      "Cheese 出現 234 次\n",
      "Pizza 出現 83 次\n",
      "Coke 出現 145 次\n",
      "Steak 出現 46 次\n",
      "Burger 出現 196 次\n",
      "Fries 出現 76 次\n",
      "Rib 出現 33 次\n",
      "Taco 出現 57 次\n",
      "Pho 出現 19 次\n",
      "Potato 出現 3 次\n"
     ]
    }
   ],
   "source": [
    "\n",
    "content = {} #建立一個空hash用來分類\n",
    "\n",
    "#將檔案打開並讀取成str，然後將其分割成list\n",
    "data = open(\"hw2_data.txt\", )\n",
    "lines = data.read() \n",
    "words = lines.split()\n",
    "\n",
    "#將list的內容輸入hash，並且記錄不同的單字各輸入了幾次\n",
    "for word in words:\n",
    "  if word not in content:\n",
    "    content[word]=1\n",
    "  else:\n",
    "    content[word]+=1\n",
    " \n",
    "data.close()\n",
    "\n",
    "\n",
    "#用hash的長度來呈現有幾個不重複的單字\n",
    "print('總共有', len(content), '個不同的單字')\n",
    "\n",
    "\n",
    "#將hash紀錄的資訊呈現出來\n",
    "for i in content:\n",
    "    print(i, '出現', content[i], '次')\n",
    "\n",
    "\n",
    "    \n"
   ]
  }
 ],
 "metadata": {
  "kernelspec": {
   "display_name": "Python 3 (ipykernel)",
   "language": "python",
   "name": "python3"
  },
  "language_info": {
   "codemirror_mode": {
    "name": "ipython",
    "version": 3
   },
   "file_extension": ".py",
   "mimetype": "text/x-python",
   "name": "python",
   "nbconvert_exporter": "python",
   "pygments_lexer": "ipython3",
   "version": "3.9.13"
  }
 },
 "nbformat": 4,
 "nbformat_minor": 5
}
