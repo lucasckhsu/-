{
  "metadata": {
    "language_info": {
      "codemirror_mode": {
        "name": "python",
        "version": 3
      },
      "file_extension": ".py",
      "mimetype": "text/x-python",
      "name": "python",
      "nbconvert_exporter": "python",
      "pygments_lexer": "ipython3",
      "version": "3.8"
    },
    "kernelspec": {
      "name": "python",
      "display_name": "Python (Pyodide)",
      "language": "python"
    }
  },
  "nbformat_minor": 4,
  "nbformat": 4,
  "cells": [
    {
      "cell_type": "code",
      "source": "print(\"十進位轉二進位與十六進位轉換器\")\n\nprint(\"輸入數字0到255\")\ntext=input()\n\nwhile text.isdigit()==False or int(text)<0 or int(text)>255:\n  print(\"請輸入正確數字\")\n  print(\"輸入數字0到255\")\n  text=input()\n\n\n#二進位運算\nnumber=int(text)\n\nif number>=128:\n  number-=128\n  n7=1\nelse:\n  n7=0\n\nif number>=64:\n  number-=64\n  n6=1\nelse:\n  n6=0\n\nif number>=32:\n  number-=32\n  n5=1\nelse:\n  n5=0\n\nif number>=16:\n  number-=16\n  n4=1\nelse:\n  n4=0\n\nif number>=8:\n  number-=8\n  n3=1\nelse:\n  n3=0\n\nif number>=4:\n  number-=4\n  n2=1\nelse:\n  n2=0\n\nif number>=2:\n  number-=2\n  n1=1\nelse:\n  n1=0\n\nn0=number\n\nprint(\"\")\nprint(\"二進位為\")\nprint(n7,n6,n5,n4,n3,n2,n1,n0, sep=\"\")\n\n\n#16進位運算\nm2=n7*8+n6*4+n5*2+n4 #16進位十位數\nm1=n3*8+n2*4+n1*2+n0 #16進位個位數\n\n\nname=[0,1,2,3,4,5,6,7,8,9,\"A\",\"B\",\"C\",\"D\",\"E\",\"F\"]#16進位數字\nprint(\"\")\nprint(\"十六進位為\")\nprint(name[m2],name[m1], sep=\"\")",
      "metadata": {
        "trusted": true
      },
      "execution_count": 3,
      "outputs": [
        {
          "name": "stdout",
          "text": "",
          "output_type": "stream"
        },
        {
          "name": "stdout",
          "text": "\n二進位為\n01000011\n\n十六進位為\n43\n",
          "output_type": "stream"
        }
      ]
    },
    {
      "cell_type": "code",
      "source": "",
      "metadata": {},
      "execution_count": null,
      "outputs": []
    },
    {
      "cell_type": "code",
      "source": "",
      "metadata": {},
      "execution_count": null,
      "outputs": []
    }
  ]
}