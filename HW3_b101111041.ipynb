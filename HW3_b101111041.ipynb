{
 "cells": [
  {
   "cell_type": "code",
   "execution_count": 7,
   "id": "21dbad4c-7dce-4cb3-9ffd-571c9a47005c",
   "metadata": {},
   "outputs": [],
   "source": [
    "def QuickSort(arr, start, end): \n",
    "#第一個參數是要分類的陣列\n",
    "#第二個是從第幾個元素開始分類\n",
    "#第三個則是分類到第幾個元素結束\n",
    "\n",
    "  if start-end == 1: #若要分類的部分長度等於，代表只有一個元素，不需要分類\n",
    "    return\n",
    "\n",
    "  ref = start #參考值為第一個元素\n",
    "  left = start #左標一開始為第一個元素\n",
    "  right = end #右標一開始為最後一個元素\n",
    "\n",
    "  while arr[left] != arr[right]: \n",
    "\n",
    "    while arr[right] >= arr[ref]: #右標持續向左移動，直到值小於參考值時停下\n",
    "      if left == right:\n",
    "        break #當兩個指標重疊時，跳出迴圈\n",
    "      right-=1 \n",
    "    \n",
    "    while arr[left] <= arr[ref]: #左標持續向右移動，直到值大於參考值時停下\n",
    "      if right == left:\n",
    "        break #當兩個指標重疊時，跳出迴圈\n",
    "      left+=1 \n",
    "\n",
    "    if arr[right]<arr[ref] and arr[left]>arr[ref]:\n",
    "      arr[right], arr[left] = arr[left], arr[right]\n",
    "    #當左標小於參考值，右標大於參考值時，將兩個元素互換，之後左右標再繼續移動\n",
    "\n",
    "  arr[right], arr[ref] = arr[ref], arr[right] \n",
    "  new_ref = right\n",
    "  print(list)\n",
    "  #將參考值與左右標重疊時所在的元素做互換\n",
    "  #此時的位置便為參考值的新位置\n",
    "  #順便將部分排序好的鎮列印出來，展示排序的過程\n",
    "\n",
    "  QuickSort(arr, start, new_ref-1) #將參考值新位置左邊的部分用同樣的方式進行排序\n",
    "  QuickSort(arr, new_ref+1, end)  #將參考值新位置右邊的部分用同樣的方式進行排序\n",
    "  return arr #將排序好的陣列回傳\n",
    "\n"
   ]
  },
  {
   "cell_type": "code",
   "execution_count": 8,
   "id": "86ae2614-abb2-4d2c-8555-3067cfb0ee0f",
   "metadata": {},
   "outputs": [
    {
     "name": "stdout",
     "output_type": "stream",
     "text": [
      "[33, 67, 8, 13, 54, 119, 3, 84, 25, 41]\n",
      "[3, 25, 8, 13, 33, 119, 54, 84, 67, 41]\n",
      "[3, 25, 8, 13, 33, 119, 54, 84, 67, 41]\n",
      "[3, 13, 8, 25, 33, 119, 54, 84, 67, 41]\n",
      "[3, 8, 13, 25, 33, 119, 54, 84, 67, 41]\n",
      "[3, 8, 13, 25, 33, 119, 54, 84, 67, 41]\n",
      "[3, 8, 13, 25, 33, 41, 54, 84, 67, 119]\n",
      "[3, 8, 13, 25, 33, 41, 54, 84, 67, 119]\n",
      "[3, 8, 13, 25, 33, 41, 54, 84, 67, 119]\n",
      "[3, 8, 13, 25, 33, 41, 54, 67, 84, 119]\n",
      "[3, 8, 13, 25, 33, 41, 54, 67, 84, 119]\n",
      "[3, 8, 13, 25, 33, 41, 54, 67, 84, 119]\n"
     ]
    }
   ],
   "source": [
    "list= [33, 67, 8, 13, 54, 119, 3, 84, 25, 41]\n",
    "\n",
    "print(list)\n",
    "QuickSort(list, 0, len(list)-1) #對list從第0個到最後一個元素做排序\n",
    "print(list)\n"
   ]
  },
  {
   "cell_type": "code",
   "execution_count": null,
   "id": "bd7d7ae6-6a6c-471b-9ca3-8c9e36803ee6",
   "metadata": {},
   "outputs": [],
   "source": []
  }
 ],
 "metadata": {
  "kernelspec": {
   "display_name": "Python 3 (ipykernel)",
   "language": "python",
   "name": "python3"
  },
  "language_info": {
   "codemirror_mode": {
    "name": "ipython",
    "version": 3
   },
   "file_extension": ".py",
   "mimetype": "text/x-python",
   "name": "python",
   "nbconvert_exporter": "python",
   "pygments_lexer": "ipython3",
   "version": "3.9.13"
  }
 },
 "nbformat": 4,
 "nbformat_minor": 5
}
